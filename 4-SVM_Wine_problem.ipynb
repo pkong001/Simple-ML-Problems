{
 "cells": [
  {
   "cell_type": "markdown",
   "metadata": {},
   "source": [
    "# Final Exam 2563 - Support Vector Machine (Wine Quality Problem)\n",
    "\n",
    "This exam problem has an objective to develop a support vector machine model to predict the quality of red wine from 11 features including\n",
    "\n",
    "1. fixed acidity\n",
    "2. volatile acidity\n",
    "3. citric acid\n",
    "4. residual sugar\n",
    "5. chlorides\n",
    "6. free sulfur dioxide\n",
    "7. total sulfur dioxide\n",
    "8. density\n",
    "9. pH\n",
    "10. sulphates\n",
    "11. alcohol\n",
    "\n",
    "The label is a wine quality: <br>\n",
    "-- 0 = wine has bad quality <br>\n",
    "-- 1 = wine has good quality"
   ]
  },
  {
   "cell_type": "code",
   "execution_count": 1,
   "metadata": {},
   "outputs": [],
   "source": [
    "# used for manipulating directory paths\n",
    "import os\n",
    "\n",
    "# Scientific and vector computation for python\n",
    "import numpy as np\n",
    "\n",
    "# Plotting library\n",
    "from matplotlib import pyplot\n",
    "\n",
    "# Optimization module in scipy\n",
    "from scipy import optimize\n",
    "\n",
    "# library written for this exam\n",
    "import utilsSVM as utils\n",
    "\n",
    "# tells matplotlib to embed plots within the notebook\n",
    "%matplotlib inline"
   ]
  },
  {
   "cell_type": "markdown",
   "metadata": {},
   "source": [
    "### We start this exam problem by first loading the dataset"
   ]
  },
  {
   "cell_type": "code",
   "execution_count": 2,
   "metadata": {},
   "outputs": [],
   "source": [
    "# Read tab separated data\n",
    "data_train = np.loadtxt(os.path.join('Data', 'SVMWineData_training.txt'))\n",
    "data_cv = np.loadtxt(os.path.join('Data', 'SVMWineData_cv.txt'))\n",
    "\n",
    "# First 11 columns of data are features and the last column is the label.\n",
    "# Matrix X contains three features while vector y contains the label.\n",
    "\n",
    "X, y = data_train[:, 0:11], data_train[:, 11]\n",
    "Xval, yval = data_cv[:, 0:11], data_cv[:, 11]\n",
    "\n",
    "m = y.size  # number of training examples"
   ]
  },
  {
   "cell_type": "code",
   "execution_count": 4,
   "metadata": {},
   "outputs": [],
   "source": [
    "def gaussianKernel(x1, x2, sigma):\n",
    "  \n",
    "    sim = 0\n",
    "    # ====================== YOUR CODE HERE ======================\n",
    "\n",
    "    sim = np.exp(-np.sum((x1 - x2) ** 2) / (2 * (sigma ** 2)))\n",
    "\n",
    "    # =============================================================\n",
    "    return sim"
   ]
  },
  {
   "cell_type": "code",
   "execution_count": 5,
   "metadata": {},
   "outputs": [],
   "source": [
    "def Params(X, y, Xval, yval):\n",
    "\n",
    "   \n",
    "    # You need to return the following variables correctly.\n",
    "    C = 1\n",
    "    sigma = 0.3\n",
    "    \n",
    "    # ====================== YOUR CODE HERE ======================\n",
    "\n",
    "    C_array = np.array([0.3, 0.6, 1])\n",
    "    sigma_array = np.array([0.3, 0.6, 1])\n",
    "\n",
    "    err_array = np.zeros([C_array.size, sigma_array.size])\n",
    "    \n",
    "    for i in np.arange(C_array.size):\n",
    "        for j in np.arange(sigma_array.size):\n",
    "            model= utils.svmTrain(X, y, C_array[i], gaussianKernel, args=(sigma_array[j],))\n",
    "            predictions = utils.svmPredict(model, Xval)\n",
    "            pred_error = np.mean(predictions != yval)\n",
    "            \n",
    "            err_array[i, j] = pred_error\n",
    "        \n",
    "    ind = np.unravel_index(np.argmin(err_array, axis = None), err_array.shape)\n",
    "    C = C_array[ind[0]]\n",
    "    sigma = sigma_array[ind[1]]\n",
    "    \n",
    "    # ============================================================\n",
    "    return C, sigma"
   ]
  },
  {
   "cell_type": "code",
   "execution_count": 6,
   "metadata": {},
   "outputs": [
    {
     "name": "stdout",
     "output_type": "stream",
     "text": [
      "1.0 1.0\n"
     ]
    }
   ],
   "source": [
    "# Determine the best SVM parameters (C and sigma) here\n",
    "C, sigma = Params(X, y, Xval, yval)\n",
    "\n",
    "# Train the SVM using the best parameters (C and sigma) we got from dataset3Params function\n",
    "model = utils.svmTrain(X, y, C, gaussianKernel, args=(sigma,))\n",
    "\n",
    "print(C, sigma)"
   ]
  },
  {
   "cell_type": "code",
   "execution_count": 9,
   "metadata": {},
   "outputs": [
    {
     "name": "stdout",
     "output_type": "stream",
     "text": [
      "Training Accuracy: 98.25\n"
     ]
    }
   ],
   "source": [
    "p = utils.svmPredict(model, X)\n",
    "\n",
    "print('Training Accuracy: %.2f' % (np.mean(p == y) * 100))"
   ]
  },
  {
   "cell_type": "code",
   "execution_count": 10,
   "metadata": {},
   "outputs": [
    {
     "name": "stdout",
     "output_type": "stream",
     "text": [
      "Training Accuracy: 67.17\n"
     ]
    }
   ],
   "source": [
    "p = utils.svmPredict(model, Xval)\n",
    "\n",
    "print('Cross Accuracy: %.2f' % (np.mean(p == yval) * 100))"
   ]
  },
  {
   "cell_type": "markdown",
   "metadata": {},
   "source": [
    "Baware using same notation \"model\""
   ]
  },
  {
   "cell_type": "code",
   "execution_count": 11,
   "metadata": {},
   "outputs": [
    {
     "name": "stdout",
     "output_type": "stream",
     "text": [
      "0.1\n"
     ]
    }
   ],
   "source": [
    "# Determine the best SVM parameters (C and sigma) here\n",
    "C =0.1\n",
    "\n",
    "\n",
    "model = utils.svmTrain(X, y, C, utils.linearKernel, 1e-3, 20)\n",
    "\n",
    "print(C)"
   ]
  },
  {
   "cell_type": "code",
   "execution_count": 15,
   "metadata": {},
   "outputs": [
    {
     "name": "stdout",
     "output_type": "stream",
     "text": [
      "Training Accuracy: 75.33\n"
     ]
    }
   ],
   "source": [
    "p = utils.svmPredict(model, X)\n",
    "\n",
    "print('Training Accuracy: %.2f' % (np.mean(p == y) * 100))"
   ]
  },
  {
   "cell_type": "code",
   "execution_count": 16,
   "metadata": {},
   "outputs": [
    {
     "name": "stdout",
     "output_type": "stream",
     "text": [
      "Cross Accuracy: 72.18\n"
     ]
    }
   ],
   "source": [
    "p = utils.svmPredict(model, Xval)\n",
    "\n",
    "print('Cross Accuracy: %.2f' % (np.mean(p == yval) * 100))"
   ]
  },
  {
   "cell_type": "code",
   "execution_count": null,
   "metadata": {},
   "outputs": [],
   "source": [
    "print(C)\n",
    "print(sigma)"
   ]
  },
  {
   "cell_type": "code",
   "execution_count": 7,
   "metadata": {},
   "outputs": [
    {
     "name": "stdout",
     "output_type": "stream",
     "text": [
      "1.0 1.0\n"
     ]
    }
   ],
   "source": [
    "C, sigma = Params(X, y, Xval, yval)\n",
    "print(C,sigma)"
   ]
  },
  {
   "cell_type": "code",
   "execution_count": null,
   "metadata": {},
   "outputs": [],
   "source": []
  },
  {
   "cell_type": "code",
   "execution_count": null,
   "metadata": {},
   "outputs": [],
   "source": []
  },
  {
   "cell_type": "code",
   "execution_count": null,
   "metadata": {},
   "outputs": [],
   "source": []
  },
  {
   "cell_type": "code",
   "execution_count": null,
   "metadata": {},
   "outputs": [],
   "source": []
  }
 ],
 "metadata": {
  "kernelspec": {
   "display_name": "Python 3",
   "language": "python",
   "name": "python3"
  },
  "language_info": {
   "codemirror_mode": {
    "name": "ipython",
    "version": 3
   },
   "file_extension": ".py",
   "mimetype": "text/x-python",
   "name": "python",
   "nbconvert_exporter": "python",
   "pygments_lexer": "ipython3",
   "version": "3.7.4"
  }
 },
 "nbformat": 4,
 "nbformat_minor": 4
}
