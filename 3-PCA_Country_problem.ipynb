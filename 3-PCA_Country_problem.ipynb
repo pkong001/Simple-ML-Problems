{
 "cells": [
  {
   "attachments": {},
   "cell_type": "markdown",
   "metadata": {},
   "source": [
    "# Principal Component Analysis\n",
    "\n",
    "The objective is to develop a principal component analysis to reduce the dimension of the data.\n",
    "\n",
    "In this data, there are nine socio-economic and health factors including\n",
    "1. Death of children under 5 years of age per 1000 live births\n",
    "2. Exports of goods and services per capita. Given as %age of the GDP per capita\n",
    "3. Total health spending per capita. Given as %age of GDP per capita\n",
    "4. Imports of goods and services per capita. Given as %age of the GDP per capita\n",
    "5. Net income per person\n",
    "6. The measurement of the annual growth rate of the Total GDP\n",
    "7. The average number of years a new born child would live if the current mortality patterns are to remain the same\n",
    "8. The number of children that would be born to each woman if the current age-fertility rates remain the same.\n",
    "9. The GDP per capita. Calculated as the Total GDP divided by the total population."
   ]
  },
  {
   "cell_type": "code",
   "execution_count": 1,
   "metadata": {},
   "outputs": [],
   "source": [
    "# used for manipulating directory paths\n",
    "import os\n",
    "\n",
    "# Scientific and vector computation for python\n",
    "import numpy as np\n",
    "\n",
    "from IPython.display import HTML, display, clear_output\n",
    "\n",
    "# library written for this exam\n",
    "import utilsPCA as utils\n",
    "\n",
    "%load_ext autoreload\n",
    "%autoreload 2"
   ]
  },
  {
   "attachments": {},
   "cell_type": "markdown",
   "metadata": {},
   "source": [
    "### First loading the dataset. "
   ]
  },
  {
   "cell_type": "code",
   "execution_count": 2,
   "metadata": {},
   "outputs": [],
   "source": [
    "# Load the dataset into the variable X \n",
    "data = np.loadtxt(os.path.join('Data', 'PCACountryData.txt'))\n",
    "X = data\n",
    "\n",
    "m = X.shape[0] # number of training examples"
   ]
  },
  {
   "cell_type": "code",
   "execution_count": 3,
   "metadata": {},
   "outputs": [],
   "source": [
    "def pca(X):\n",
    "   \n",
    "    # Useful values\n",
    "    m, n = X.shape\n",
    "\n",
    "    # You need to return the following variables correctly.\n",
    "    U = np.zeros(n)\n",
    "    S = np.zeros(n)\n",
    "\n",
    "    # ====================== YOUR CODE HERE ======================\n",
    "    Sigma = (1/m) * np.dot(X.T,X)\n",
    "    U,S,V = np.linalg.svd(Sigma)\n",
    "    \n",
    "    # ============================================================\n",
    "    return U, S"
   ]
  },
  {
   "cell_type": "code",
   "execution_count": 4,
   "metadata": {},
   "outputs": [],
   "source": [
    "X_norm, mu, sigma = utils.featureNormalize(X)\n",
    "U, S = pca(X_norm)"
   ]
  },
  {
   "cell_type": "code",
   "execution_count": 5,
   "metadata": {},
   "outputs": [
    {
     "name": "stdout",
     "output_type": "stream",
     "text": [
      "[ 1.28765971 -1.13486665  0.2782514  -0.08220771 -0.80582187  0.15686445\n",
      " -1.61423717  1.89717646 -0.67714308]\n"
     ]
    }
   ],
   "source": [
    "print(X_norm[0,:])"
   ]
  },
  {
   "cell_type": "code",
   "execution_count": 6,
   "metadata": {},
   "outputs": [],
   "source": [
    "def projectData(X, U, K):\n",
    "   \n",
    "    # You need to return the following variables correctly.\n",
    "    Z = np.zeros((X.shape[0], K))\n",
    "\n",
    "    # ====================== YOUR CODE HERE ======================\n",
    "    Z = np.dot(X, U[:, :K])\n",
    "    # =============================================================\n",
    "    return Z"
   ]
  },
  {
   "cell_type": "code",
   "execution_count": 7,
   "metadata": {},
   "outputs": [
    {
     "name": "stdout",
     "output_type": "stream",
     "text": [
      "0.8719078614023906\n",
      "Projection : -2.904290 -0.095334 -0.7159651.002240\n"
     ]
    }
   ],
   "source": [
    "#  Project the data onto K = 1 dimension\n",
    "K = 4\n",
    "Z = projectData(X_norm, U, K)\n",
    "\n",
    "#########Why in slide said it should be more >= 0.99\n",
    "print(np.sum(S[:K])/np.sum(S))\n",
    "\n",
    "print('Projection : {:.6f} {:.6f} {:.6f}{:.6f}'.format(Z[0, 0],Z[0, 1],Z[0, 2],Z[0, 3]))"
   ]
  },
  {
   "cell_type": "code",
   "execution_count": 8,
   "metadata": {},
   "outputs": [
    {
     "name": "stdout",
     "output_type": "stream",
     "text": [
      "1.0022403774544446\n"
     ]
    }
   ],
   "source": [
    "print(Z[0, 3])"
   ]
  },
  {
   "cell_type": "code",
   "execution_count": 9,
   "metadata": {},
   "outputs": [],
   "source": [
    "def recoverData(Z, U, K):\n",
    "    \"\"\"\n",
    "    Recovers an approximation of the original data when using the \n",
    "    projected data.\n",
    "    \n",
    "    Parameters\n",
    "    ----------\n",
    "    Z : array_like\n",
    "        The reduced data after applying PCA. This is a matrix\n",
    "        of shape (m x K).\n",
    "    \n",
    "    U : array_like\n",
    "        The eigenvectors (principal components) computed by PCA.\n",
    "        This is a matrix of shape (n x n) where each column represents\n",
    "        a single eigenvector.\n",
    "    \n",
    "    K : int\n",
    "        The number of principal components retained\n",
    "        (should be less than n).\n",
    "    \n",
    "    Returns\n",
    "    -------\n",
    "    X_rec : array_like\n",
    "        The recovered data after transformation back to the original \n",
    "        dataset space. This is a matrix of shape (m x n), where m is \n",
    "        the number of examples and n is the dimensions (number of\n",
    "        features) of original datatset.\n",
    "    \n",
    "    Instructions\n",
    "    ------------\n",
    "    Compute the approximation of the data by projecting back\n",
    "    onto the original space using the top K eigenvectors in U.\n",
    "    For the i-th example Z[i,:], the (approximate)\n",
    "    recovered data for dimension j is given as follows:\n",
    "\n",
    "        v = Z[i, :]\n",
    "        recovered_j = np.dot(v, U[j, :K])\n",
    "\n",
    "    Notice that U[j, :K] is a vector of size K.\n",
    "    \"\"\"\n",
    "    # You need to return the following variables correctly.\n",
    "    X_rec = np.zeros((Z.shape[0], U.shape[0]))\n",
    "\n",
    "    # ====================== YOUR CODE HERE ======================\n",
    "    X_rec = np.dot(Z,U[:, :K].T)\n",
    "    # =============================================================\n",
    "    return X_rec\n",
    "\n",
    "    # rec is reconstruct"
   ]
  },
  {
   "cell_type": "code",
   "execution_count": 10,
   "metadata": {},
   "outputs": [],
   "source": [
    "X_rec  = recoverData(Z, U, K)"
   ]
  },
  {
   "cell_type": "code",
   "execution_count": 11,
   "metadata": {},
   "outputs": [
    {
     "name": "stdout",
     "output_type": "stream",
     "text": [
      "[ 1.62943025 -0.86660956  0.42884917 -0.26227601 -0.97789998  0.25098613\n",
      " -1.54380803  1.55249949 -0.69960303]\n"
     ]
    }
   ],
   "source": [
    "print(X_rec[0,:])"
   ]
  },
  {
   "cell_type": "code",
   "execution_count": 13,
   "metadata": {},
   "outputs": [
    {
     "name": "stdout",
     "output_type": "stream",
     "text": [
      "0.945309975643951\n"
     ]
    }
   ],
   "source": [
    "K= 5\n",
    "print(np.sum(S[:K])/np.sum(S))"
   ]
  },
  {
   "cell_type": "code",
   "execution_count": 14,
   "metadata": {},
   "outputs": [
    {
     "name": "stdout",
     "output_type": "stream",
     "text": [
      "0.9925694437691404\n"
     ]
    }
   ],
   "source": [
    "K= 8\n",
    "print(np.sum(S[:K])/np.sum(S))"
   ]
  }
 ],
 "metadata": {
  "kernelspec": {
   "display_name": "base",
   "language": "python",
   "name": "python3"
  },
  "language_info": {
   "codemirror_mode": {
    "name": "ipython",
    "version": 3
   },
   "file_extension": ".py",
   "mimetype": "text/x-python",
   "name": "python",
   "nbconvert_exporter": "python",
   "pygments_lexer": "ipython3",
   "version": "3.9.13 (main, Aug 25 2022, 23:51:50) [MSC v.1916 64 bit (AMD64)]"
  },
  "vscode": {
   "interpreter": {
    "hash": "d6338a2c909abaef21d4393d5b8ceae84b7b22a551ec24aec08ea09a6ac50e0c"
   }
  }
 },
 "nbformat": 4,
 "nbformat_minor": 4
}
